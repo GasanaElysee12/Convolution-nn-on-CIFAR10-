{
  "nbformat": 4,
  "nbformat_minor": 0,
  "metadata": {
    "colab": {
      "provenance": []
    },
    "kernelspec": {
      "name": "python3",
      "display_name": "Python 3"
    },
    "language_info": {
      "name": "python"
    }
  },
  "cells": [
    {
      "cell_type": "code",
      "execution_count": 1,
      "metadata": {
        "colab": {
          "base_uri": "https://localhost:8080/"
        },
        "id": "C_Pci6OTdMA9",
        "outputId": "50a0cddd-509c-40c3-9813-844ac7384484"
      },
      "outputs": [
        {
          "output_type": "stream",
          "name": "stdout",
          "text": [
            "2.0.0+cu118\n"
          ]
        }
      ],
      "source": [
        "import torch\n",
        "print(torch.__version__)"
      ]
    },
    {
      "cell_type": "markdown",
      "source": [
        "# Import the required library"
      ],
      "metadata": {
        "id": "57IppbCuhO2T"
      }
    },
    {
      "cell_type": "code",
      "source": [
        "from torch.utils.data import Dataset, DataLoader ,random_split\n",
        "from torchvision.transforms import ToTensor\n",
        "from torchvision.datasets import CIFAR10\n",
        "import torch.nn as nn \n",
        "import time"
      ],
      "metadata": {
        "id": "OMU2PwngdUBW"
      },
      "execution_count": 2,
      "outputs": []
    },
    {
      "cell_type": "markdown",
      "source": [
        "# Define the hyper parameters"
      ],
      "metadata": {
        "id": "zJSSKPf_hJPw"
      }
    },
    {
      "cell_type": "code",
      "source": [
        "batch_size=32\n",
        "val_ratio=0.1\n",
        "epochs=20\n",
        "learning_rate=1E-3"
      ],
      "metadata": {
        "id": "sAHOZBTCeYCZ"
      },
      "execution_count": 19,
      "outputs": []
    },
    {
      "cell_type": "markdown",
      "source": [
        "#Let's download the data"
      ],
      "metadata": {
        "id": "9iRwKM6EhF0O"
      }
    },
    {
      "cell_type": "code",
      "source": [
        "train_data=CIFAR10(root='./content',train=True,download=True,transform=ToTensor())\n",
        "test_data=CIFAR10(root='./content',train=False,download=True,transform=ToTensor())"
      ],
      "metadata": {
        "colab": {
          "base_uri": "https://localhost:8080/"
        },
        "id": "BmbNZRIAehQX",
        "outputId": "0420f469-ace1-4489-ab80-ebb0a2ef3c8e"
      },
      "execution_count": 4,
      "outputs": [
        {
          "output_type": "stream",
          "name": "stdout",
          "text": [
            "Downloading https://www.cs.toronto.edu/~kriz/cifar-10-python.tar.gz to ./content/cifar-10-python.tar.gz\n"
          ]
        },
        {
          "output_type": "stream",
          "name": "stderr",
          "text": [
            "100%|██████████| 170498071/170498071 [00:04<00:00, 42362817.03it/s]\n"
          ]
        },
        {
          "output_type": "stream",
          "name": "stdout",
          "text": [
            "Extracting ./content/cifar-10-python.tar.gz to ./content\n",
            "Files already downloaded and verified\n"
          ]
        }
      ]
    },
    {
      "cell_type": "markdown",
      "source": [
        "#Check the length of the data"
      ],
      "metadata": {
        "id": "srFuIJ9shYGv"
      }
    },
    {
      "cell_type": "code",
      "source": [
        "len(train_data),len(test_data)"
      ],
      "metadata": {
        "colab": {
          "base_uri": "https://localhost:8080/"
        },
        "id": "suDekutVfcQB",
        "outputId": "153e7d0a-3ab2-469c-9239-34ff1e10615e"
      },
      "execution_count": 6,
      "outputs": [
        {
          "output_type": "execute_result",
          "data": {
            "text/plain": [
              "(50000, 10000)"
            ]
          },
          "metadata": {},
          "execution_count": 6
        }
      ]
    },
    {
      "cell_type": "markdown",
      "source": [
        "# Create a size for validation and training of the data"
      ],
      "metadata": {
        "id": "xkCkL2tQg4En"
      }
    },
    {
      "cell_type": "code",
      "source": [
        "val_size=int(val_ratio*len(train_data))\n",
        "train_size=int((1-val_ratio)*len(train_data))"
      ],
      "metadata": {
        "id": "ZlcDHub5fHwx"
      },
      "execution_count": 9,
      "outputs": []
    },
    {
      "cell_type": "markdown",
      "source": [
        "#Split the data in training and testing data"
      ],
      "metadata": {
        "id": "903ryAVNgyCH"
      }
    },
    {
      "cell_type": "code",
      "source": [
        "training_data,val_data=random_split(train_data,[train_size,val_size])"
      ],
      "metadata": {
        "id": "0yoDj9NngCN-"
      },
      "execution_count": 10,
      "outputs": []
    },
    {
      "cell_type": "markdown",
      "source": [
        "#Create the data batches"
      ],
      "metadata": {
        "id": "YbDZ5ML2hfmm"
      }
    },
    {
      "cell_type": "code",
      "source": [
        "train_loader=DataLoader(training_data,batch_size=batch_size,shuffle=True)\n",
        "val_loader=DataLoader(val_data,batch_size=batch_size,shuffle=True)\n",
        "test_loader=DataLoader(test_data,batch_size=batch_size,shuffle=False)"
      ],
      "metadata": {
        "id": "wDlWN_pTf2Ka"
      },
      "execution_count": 12,
      "outputs": []
    },
    {
      "cell_type": "markdown",
      "source": [
        "#Define the model"
      ],
      "metadata": {
        "id": "DaeCQphyi4Ko"
      }
    },
    {
      "cell_type": "code",
      "source": [
        "class CNN(nn.Module):\n",
        "\n",
        "  def __init__(self):\n",
        "    super(CNN,self).__init__()\n",
        "\n",
        "    self.model=nn.Sequential(nn.Conv2d(3,32,3),\n",
        "                             nn.ReLU(),\n",
        "                             nn.MaxPool2d(2),\n",
        "                             nn.Dropout(0.25),\n",
        "                             \n",
        "                             nn.Conv2d(32,64,3),\n",
        "                             nn.ReLU(),\n",
        "                             nn.MaxPool2d(2),\n",
        "                             nn.Dropout(0.25),\n",
        "                             \n",
        "                             nn.Flatten(),\n",
        "                             nn.Linear(64*6*6,512),\n",
        "                             nn.ReLU(),\n",
        "                             nn.Dropout(0.5),\n",
        "\n",
        "                             #Last layer\n",
        "                             nn.Linear(512,10))\n",
        "  def forward(self,inputs):\n",
        "    pred=self.model(inputs)\n",
        "    return pred"
      ],
      "metadata": {
        "id": "tuyA0LFziD16"
      },
      "execution_count": 16,
      "outputs": []
    },
    {
      "cell_type": "markdown",
      "source": [
        "#Create a device"
      ],
      "metadata": {
        "id": "woh-zemBkjWi"
      }
    },
    {
      "cell_type": "code",
      "source": [
        "device=torch.device('cuda' if torch.cuda.is_available() else 'cpu')"
      ],
      "metadata": {
        "id": "V8N_zanAkm8N"
      },
      "execution_count": 17,
      "outputs": []
    },
    {
      "cell_type": "code",
      "source": [
        "model=CNN()\n",
        "model.to(device)"
      ],
      "metadata": {
        "colab": {
          "base_uri": "https://localhost:8080/"
        },
        "id": "mN3ReAhNkgFA",
        "outputId": "5d0c3965-43ba-4b4d-aed9-37107cc8d0a7"
      },
      "execution_count": 18,
      "outputs": [
        {
          "output_type": "execute_result",
          "data": {
            "text/plain": [
              "CNN(\n",
              "  (model): Sequential(\n",
              "    (0): Conv2d(3, 32, kernel_size=(3, 3), stride=(1, 1))\n",
              "    (1): ReLU()\n",
              "    (2): MaxPool2d(kernel_size=2, stride=2, padding=0, dilation=1, ceil_mode=False)\n",
              "    (3): Dropout(p=0.25, inplace=False)\n",
              "    (4): Conv2d(32, 64, kernel_size=(3, 3), stride=(1, 1))\n",
              "    (5): ReLU()\n",
              "    (6): MaxPool2d(kernel_size=2, stride=2, padding=0, dilation=1, ceil_mode=False)\n",
              "    (7): Dropout(p=0.25, inplace=False)\n",
              "    (8): Flatten(start_dim=1, end_dim=-1)\n",
              "    (9): Linear(in_features=2304, out_features=512, bias=True)\n",
              "    (10): ReLU()\n",
              "    (11): Dropout(p=0.5, inplace=False)\n",
              "    (12): Linear(in_features=512, out_features=10, bias=True)\n",
              "  )\n",
              ")"
            ]
          },
          "metadata": {},
          "execution_count": 18
        }
      ]
    },
    {
      "cell_type": "markdown",
      "source": [
        "# Define the optimization functions"
      ],
      "metadata": {
        "id": "p9aIuQ67n5ZM"
      }
    },
    {
      "cell_type": "code",
      "source": [
        "loss_func=nn.CrossEntropyLoss()\n",
        "optimizer=torch.optim.Adam(model.parameters(),lr=learning_rate)"
      ],
      "metadata": {
        "id": "gM7WPaHdiO4X"
      },
      "execution_count": 20,
      "outputs": []
    },
    {
      "cell_type": "markdown",
      "source": [
        "# Create the training model"
      ],
      "metadata": {
        "id": "gcbDQ7KIoBV9"
      }
    },
    {
      "cell_type": "code",
      "source": [
        "def Model_training(train_values,model,loss_func,optimizer):\n",
        "  Loss_history=[]\n",
        "  size=len(train_values)\n",
        "  for batch, (images,labels) in enumerate(train_values):\n",
        "    images, labels=images.to(device),labels.to(device)\n",
        "\n",
        "    predicted=model(images)\n",
        "\n",
        "    loss=loss_func(predicted,labels)\n",
        "    \n",
        "\n",
        "    optimizer.zero_grad()\n",
        "    loss.backward()\n",
        "    optimizer.step()\n",
        "\n",
        "    if (batch+1)%100==0:\n",
        "      loss,current=loss.item(), (batch+1)*len(images)\n",
        "      Loss_history.append(loss)\n",
        "      print(f'Loss : {loss:>7f} [{current: >5d}/{size:>5d}]')\n",
        "  return Loss_history\n"
      ],
      "metadata": {
        "id": "Qi_Wm4oViWOn"
      },
      "execution_count": 26,
      "outputs": []
    },
    {
      "cell_type": "markdown",
      "source": [
        "#Create the evaluation function"
      ],
      "metadata": {
        "id": "bHpDyomboMcB"
      }
    },
    {
      "cell_type": "code",
      "source": [
        "def Model_evaluate(eval_dat,model):\n",
        "  test_size=len(eval_dat.dataset)\n",
        "  correct_pred=0\n",
        "  with torch.no_grad():\n",
        "    for image,label in eval_dat:\n",
        "      test_pred=model(image)\n",
        "      closest_pred_index=test_pred.argmax(1)\n",
        "      correct_pred +=(closest_pred_index==label).sum().item()\n",
        "  return  100*correct_pred/test_size \n",
        "\n",
        "\n",
        "\n"
      ],
      "metadata": {
        "id": "8DuAZICNnzep"
      },
      "execution_count": 36,
      "outputs": []
    },
    {
      "cell_type": "code",
      "source": [
        "def train_mdel(model,loss_f,optimizer):\n",
        "\n",
        "  strt_time=time.time()\n",
        "  Full_loss=[]\n",
        "\n",
        "  for epoch in range(epochs):\n",
        "    print(f'Epoch: {epoch + 1}\\n ------------------------------------------------------------')\n",
        "\n",
        "    epoch_start_time=time.time()\n",
        "    model.train()\n",
        "    train_loss=Model_training(train_loader,model,loss_f,optimizer)\n",
        "    Full_loss.append(train_loss)\n",
        "    #Let's set the droput to the model evaluation\n",
        "\n",
        "    model.eval()\n",
        "\n",
        "    val_accuracy=Model_evaluate(val_loader, model)\n",
        "\n",
        "    epoch_elapsed_time=time.time()-epoch_start_time\n",
        "\n",
        "    print(f'Epoch {epoch + 1} completed in {epoch_elapsed_time: .3f}s,'f'val_accuracy: {val_accuracy: .3f}%\\n')\n",
        "    train_elapsed_time=time.time()-strt_time\n",
        "\n",
        "\n",
        "    print(f' Training completed in {train_elapsed_time:.3f}s')\n",
        "\n",
        "    model.eval()\n",
        "    train_accuracy=Model_evaluate(train_loader,model)\n",
        "\n",
        "    print(f'The training accuracy is : {train_accuracy:.3f}%')\n",
        "\n",
        "    test_accuracy=Model_evaluate(test_loader,model)\n",
        "\n",
        "    print(f'The test accurancy is: {test_accuracy: .3f}% ')\n",
        "    \n",
        "    return Full_loss\n",
        "\n",
        "\n"
      ],
      "metadata": {
        "id": "_8RauOTYp9Rf"
      },
      "execution_count": 32,
      "outputs": []
    },
    {
      "cell_type": "markdown",
      "source": [
        "# Let's now train the model"
      ],
      "metadata": {
        "id": "UOo-ehEIuVJZ"
      }
    },
    {
      "cell_type": "code",
      "source": [
        "train_mdel(model,loss_func,optimizer)"
      ],
      "metadata": {
        "colab": {
          "base_uri": "https://localhost:8080/"
        },
        "id": "5AwXW1KIt5LY",
        "outputId": "77cc8ce3-d8b2-44fb-b169-eb8914b8da95"
      },
      "execution_count": 37,
      "outputs": [
        {
          "output_type": "stream",
          "name": "stdout",
          "text": [
            "Epoch: 1\n",
            " ------------------------------------------------------------\n",
            "Loss : 1.034771 [ 3200/ 1407]\n",
            "Loss : 1.032641 [ 6400/ 1407]\n",
            "Loss : 1.135057 [ 9600/ 1407]\n",
            "Loss : 1.015456 [12800/ 1407]\n",
            "Loss : 1.227483 [16000/ 1407]\n",
            "Loss : 0.852989 [19200/ 1407]\n",
            "Loss : 0.932443 [22400/ 1407]\n",
            "Loss : 1.464880 [25600/ 1407]\n",
            "Loss : 0.902383 [28800/ 1407]\n",
            "Loss : 1.074207 [32000/ 1407]\n",
            "Loss : 1.157087 [35200/ 1407]\n",
            "Loss : 1.316920 [38400/ 1407]\n",
            "Loss : 0.997049 [41600/ 1407]\n",
            "Loss : 1.358635 [44800/ 1407]\n",
            "Epoch 1 completed in  89.900s,val_accuracy:  62.940%\n",
            "\n",
            " Training completed in 89.901s\n",
            "The training accuracy is : 66.660%\n",
            "The test accurancy is:  63.540% \n"
          ]
        },
        {
          "output_type": "execute_result",
          "data": {
            "text/plain": [
              "[[1.03477144241333,\n",
              "  1.0326411724090576,\n",
              "  1.135056734085083,\n",
              "  1.0154564380645752,\n",
              "  1.2274826765060425,\n",
              "  0.852988600730896,\n",
              "  0.9324426054954529,\n",
              "  1.4648804664611816,\n",
              "  0.9023827314376831,\n",
              "  1.0742071866989136,\n",
              "  1.1570874452590942,\n",
              "  1.3169195652008057,\n",
              "  0.9970488548278809,\n",
              "  1.3586350679397583]]"
            ]
          },
          "metadata": {},
          "execution_count": 37
        }
      ]
    },
    {
      "cell_type": "code",
      "source": [
        "import matplotlib.pyplot as plt\n",
        "dd=[1.03477144241333,\n",
        "  1.0326411724090576,\n",
        "  1.135056734085083,\n",
        "  1.0154564380645752,\n",
        "  1.2274826765060425,\n",
        "  0.852988600730896,\n",
        "  0.9324426054954529,\n",
        "  1.4648804664611816,\n",
        "  0.9023827314376831,\n",
        "  1.0742071866989136,\n",
        "  1.1570874452590942,\n",
        "  1.3169195652008057,\n",
        "  0.9970488548278809,\n",
        "  1.3586350679397583]"
      ],
      "metadata": {
        "id": "iEhLx40DugaP"
      },
      "execution_count": 38,
      "outputs": []
    },
    {
      "cell_type": "code",
      "source": [
        "plt.plot(dd)"
      ],
      "metadata": {
        "colab": {
          "base_uri": "https://localhost:8080/",
          "height": 448
        },
        "id": "vzb2TeN3v5O4",
        "outputId": "3fd6ab15-206a-4393-ba95-c3ba1f97c916"
      },
      "execution_count": 39,
      "outputs": [
        {
          "output_type": "execute_result",
          "data": {
            "text/plain": [
              "[<matplotlib.lines.Line2D at 0x7fba44ffe850>]"
            ]
          },
          "metadata": {},
          "execution_count": 39
        },
        {
          "output_type": "display_data",
          "data": {
            "text/plain": [
              "<Figure size 640x480 with 1 Axes>"
            ],
            "image/png": "[encoded data removed]"
          },
          "metadata": {}
        }
      ]
    },
    {
      "cell_type": "code",
      "source": [],
      "metadata": {
        "id": "lzkzIOddxaLi"
      },
      "execution_count": null,
      "outputs": []
    }
  ]
}